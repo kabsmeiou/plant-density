{
 "cells": [
  {
   "cell_type": "code",
   "execution_count": 1,
   "id": "a19049ce-3c78-4f48-a369-8a2024cef66f",
   "metadata": {},
   "outputs": [],
   "source": [
    "import pandas as pd\n",
    "\n",
    "df = pd.read_csv('final_df')"
   ]
  },
  {
   "cell_type": "code",
   "execution_count": 2,
   "id": "6cb45dee-f902-4767-a0fb-ff80f532d825",
   "metadata": {},
   "outputs": [
    {
     "name": "stdout",
     "output_type": "stream",
     "text": [
      "<class 'pandas.core.frame.DataFrame'>\n",
      "RangeIndex: 526 entries, 0 to 525\n",
      "Data columns (total 44 columns):\n",
      " #   Column                 Non-Null Count  Dtype  \n",
      "---  ------                 --------------  -----  \n",
      " 0   crop_type              526 non-null    object \n",
      " 1   crop_season            526 non-null    object \n",
      " 2   species_mix            526 non-null    object \n",
      " 3   biomass_seed           526 non-null    float64\n",
      " 4   plant_density          526 non-null    float64\n",
      " 5   density_relative       526 non-null    float64\n",
      " 6   density_factor         526 non-null    object \n",
      " 7   n_amount               526 non-null    int64  \n",
      " 8   cultivar_mix           526 non-null    object \n",
      " 9   interrow               526 non-null    float64\n",
      " 10  mixing_pattern         526 non-null    object \n",
      " 11  mixture_design         526 non-null    object \n",
      " 12  n_fertilisation_type   526 non-null    object \n",
      " 13  n_fertiliser           526 non-null    object \n",
      " 14  irrigation_amount      526 non-null    float64\n",
      " 15  p_amount               526 non-null    int64  \n",
      " 16  pest_control           526 non-null    object \n",
      " 17  country                526 non-null    object \n",
      " 18  site                   526 non-null    object \n",
      " 19  plot_name              526 non-null    object \n",
      " 20  plot_long              526 non-null    float64\n",
      " 21  soil_awc               526 non-null    float64\n",
      " 22  soil_clay              526 non-null    float64\n",
      " 23  soil_sand              526 non-null    float64\n",
      " 24  soil_silt              526 non-null    float64\n",
      " 25  soil_ph                526 non-null    float64\n",
      " 26  previous_crop          526 non-null    object \n",
      " 27  nitrogen_residual      526 non-null    float64\n",
      " 28  heat_stress_days       526 non-null    int64  \n",
      " 29  total_precipitation    526 non-null    float64\n",
      " 30  total_solar_radiation  526 non-null    float64\n",
      " 31  high_humidity_days     526 non-null    int64  \n",
      " 32  growing_days           526 non-null    int64  \n",
      " 33  density_error          526 non-null    float64\n",
      " 34  density_n_ratio        526 non-null    float64\n",
      " 35  crowding               526 non-null    int64  \n",
      " 36  soil_water_capacity    526 non-null    float64\n",
      " 37  GDD                    526 non-null    float64\n",
      " 38  density_category       526 non-null    object \n",
      " 39  cultivation_type       526 non-null    object \n",
      " 40  swc_category           526 non-null    object \n",
      " 41  gdd_category           526 non-null    object \n",
      " 42  precip_category        526 non-null    object \n",
      " 43  stress_index           526 non-null    float64\n",
      "dtypes: float64(19), int64(6), object(19)\n",
      "memory usage: 180.9+ KB\n"
     ]
    }
   ],
   "source": [
    "df.info()"
   ]
  },
  {
   "cell_type": "markdown",
   "id": "b30088be-689b-465c-970f-f5cb4bb8a2d7",
   "metadata": {},
   "source": [
    "TODO:\n",
    "- validate objects\n",
    "- use trees to get feature importances\n",
    "- train models\n",
    "- reuse shap for tree-based models(?)\n",
    "- maybe implement bayesian optimization if may time pa"
   ]
  },
  {
   "cell_type": "code",
   "execution_count": null,
   "id": "e3537d95-2f1e-4d5a-8015-283dcc743ab6",
   "metadata": {},
   "outputs": [],
   "source": []
  }
 ],
 "metadata": {
  "kernelspec": {
   "display_name": "Python 3 (ipykernel)",
   "language": "python",
   "name": "python3"
  },
  "language_info": {
   "codemirror_mode": {
    "name": "ipython",
    "version": 3
   },
   "file_extension": ".py",
   "mimetype": "text/x-python",
   "name": "python",
   "nbconvert_exporter": "python",
   "pygments_lexer": "ipython3",
   "version": "3.13.2"
  }
 },
 "nbformat": 4,
 "nbformat_minor": 5
}
