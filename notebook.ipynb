{
 "cells": [
  {
   "cell_type": "code",
   "execution_count": 1,
   "id": "a19049ce-3c78-4f48-a369-8a2024cef66f",
   "metadata": {},
   "outputs": [],
   "source": [
    "import pandas as pd\n",
    "\n",
    "df = pd.read_csv('merged_df')"
   ]
  },
  {
   "cell_type": "code",
   "execution_count": 2,
   "id": "6cb45dee-f902-4767-a0fb-ff80f532d825",
   "metadata": {},
   "outputs": [
    {
     "name": "stdout",
     "output_type": "stream",
     "text": [
      "<class 'pandas.core.frame.DataFrame'>\n",
      "RangeIndex: 632 entries, 0 to 631\n",
      "Data columns (total 59 columns):\n",
      " #   Column                       Non-Null Count  Dtype  \n",
      "---  ------                       --------------  -----  \n",
      " 0   Unnamed: 0                   632 non-null    int64  \n",
      " 1   experiment_id                632 non-null    object \n",
      " 2   management                   632 non-null    object \n",
      " 3   crop_type                    632 non-null    object \n",
      " 4   crop_season                  632 non-null    object \n",
      " 5   plant_family                 632 non-null    object \n",
      " 6   species                      632 non-null    object \n",
      " 7   species_mix                  632 non-null    object \n",
      " 8   sowing_date                  632 non-null    object \n",
      " 9   harvest_date                 632 non-null    object \n",
      " 10  biomass_seed                 632 non-null    float64\n",
      " 11  plant_density                632 non-null    float64\n",
      " 12  density_relative             632 non-null    float64\n",
      " 13  density_factor               632 non-null    object \n",
      " 14  N_amount                     632 non-null    int64  \n",
      " 15  cultivar                     632 non-null    object \n",
      " 16  cultivar_mix                 632 non-null    object \n",
      " 17  cultivar_management          632 non-null    object \n",
      " 18  cultivar_mix_management      632 non-null    object \n",
      " 19  density_level                632 non-null    float64\n",
      " 20  density_relative_management  632 non-null    float64\n",
      " 21  density_factor_management    632 non-null    object \n",
      " 22  interrow                     632 non-null    float64\n",
      " 23  mixing_pattern               526 non-null    object \n",
      " 24  code_row                     114 non-null    object \n",
      " 25  mixture_design               526 non-null    object \n",
      " 26  N_amount_management          632 non-null    int64  \n",
      " 27  N_fertilisation_number       318 non-null    float64\n",
      " 28  N_fertilisation_dose_1       239 non-null    float64\n",
      " 29  N_fertilisation_dose_2       71 non-null     float64\n",
      " 30  N_fertilisation_dose_3       8 non-null      float64\n",
      " 31  N_fertilisation_date_1       185 non-null    object \n",
      " 32  N_fertilisation_date_2       71 non-null     object \n",
      " 33  N_fertilisation_date_3       8 non-null      object \n",
      " 34  N_fertilisation_type         185 non-null    object \n",
      " 35  N_fertiliser                 134 non-null    object \n",
      " 36  irrigation_amount            568 non-null    float64\n",
      " 37  P_amount                     632 non-null    int64  \n",
      " 38  pest_control                 632 non-null    object \n",
      " 39  country                      632 non-null    object \n",
      " 40  site                         632 non-null    object \n",
      " 41  plot_name                    632 non-null    object \n",
      " 42  year                         632 non-null    int64  \n",
      " 43  plot_lat                     632 non-null    float64\n",
      " 44  plot_long                    632 non-null    float64\n",
      " 45  soil_awc                     351 non-null    float64\n",
      " 46  soil_clay                    621 non-null    float64\n",
      " 47  soil_sand                    621 non-null    float64\n",
      " 48  soil_silt                    621 non-null    float64\n",
      " 49  soil_pH                      518 non-null    float64\n",
      " 50  previous_crop                420 non-null    object \n",
      " 51  nitrogen_residual            488 non-null    float64\n",
      " 52  mean_temperature             632 non-null    float64\n",
      " 53  max_temperature              632 non-null    float64\n",
      " 54  heat_stress_days             632 non-null    int64  \n",
      " 55  total_precipitation          632 non-null    float64\n",
      " 56  total_solar_radiation        632 non-null    float64\n",
      " 57  mean_PET                     632 non-null    float64\n",
      " 58  high_humidity_days           632 non-null    int64  \n",
      "dtypes: float64(24), int64(7), object(28)\n",
      "memory usage: 291.4+ KB\n"
     ]
    }
   ],
   "source": [
    "df.info()"
   ]
  },
  {
   "cell_type": "code",
   "execution_count": null,
   "id": "fe89f277-7dd0-4de8-892e-867f39a65e43",
   "metadata": {},
   "outputs": [],
   "source": []
  }
 ],
 "metadata": {
  "kernelspec": {
   "display_name": "Python 3 (ipykernel)",
   "language": "python",
   "name": "python3"
  },
  "language_info": {
   "codemirror_mode": {
    "name": "ipython",
    "version": 3
   },
   "file_extension": ".py",
   "mimetype": "text/x-python",
   "name": "python",
   "nbconvert_exporter": "python",
   "pygments_lexer": "ipython3",
   "version": "3.13.2"
  }
 },
 "nbformat": 4,
 "nbformat_minor": 5
}
